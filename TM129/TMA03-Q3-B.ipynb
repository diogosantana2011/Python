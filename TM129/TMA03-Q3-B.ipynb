{
 "cells": [
  {
   "cell_type": "markdown",
   "id": "facial-dynamics",
   "metadata": {},
   "source": [
    "# TMA03, Q3 - (B)"
   ]
  },
  {
   "cell_type": "code",
   "execution_count": 1,
   "id": "joined-portrait",
   "metadata": {},
   "outputs": [
    {
     "data": {
      "text/html": [
       "<style>#notebook-container { width:50%; float:left !important;}</style>"
      ],
      "text/plain": [
       "<IPython.core.display.HTML object>"
      ]
     },
     "metadata": {},
     "output_type": "display_data"
    },
    {
     "data": {
      "application/javascript": [
       "\n",
       "$(function() {\n",
       "    $(\"#notebook-container\").resizable({\n",
       "        handles: 'e',\n",
       "        //containment: '#container',\n",
       "\n",
       "    });     \n",
       "});  \n"
      ],
      "text/plain": [
       "<IPython.core.display.Javascript object>"
      ]
     },
     "metadata": {},
     "output_type": "display_data"
    },
    {
     "data": {
      "application/vnd.jupyter.widget-view+json": {
       "model_id": "ab8d60fbf1d74b9a9d99fbee5dfdd072",
       "version_major": 2,
       "version_minor": 0
      },
      "text/plain": [
       "Ev3DevWidget(status='deferring flush until render')"
      ]
     },
     "metadata": {},
     "output_type": "display_data"
    }
   ],
   "source": [
    "from nbev3devsim.load_nbev3devwidget import roboSim, eds\n",
    "\n",
    "%load_ext nbev3devsim"
   ]
  },
  {
   "cell_type": "markdown",
   "id": "a94582be",
   "metadata": {},
   "source": [
    "<h2>Q3 - C</h2>"
   ]
  },
  {
   "cell_type": "code",
   "execution_count": 3,
   "id": "f7e5a810",
   "metadata": {},
   "outputs": [],
   "source": [
    "%%sim_magic_preloaded -Cp -b Coloured_bands -x 100 -y 700 -RO\n",
    "\n",
    "# We need a delay in the loop...\n",
    "from time import sleep\n",
    " \n",
    "# Setup the colour sensor\n",
    "colorLeft = ColorSensor(INPUT_2)\n",
    "print('The sensor color at the start is: {}'.format(colorLeft.rgb))\n",
    "\n",
    "# Colours\n",
    "blue = [0, 0, 255]\n",
    "green = [0, 255, 0]\n",
    "red = [255, 0, 0]\n",
    "black = [0, 0, 0]\n",
    "\n",
    "\n",
    "# Loop until we reach the black line\n",
    "while not colorLeft.rgb == blue:\n",
    "    # Print the color detected by the sensor\n",
    "    print(colorLeft.rgb)\n",
    "    # Start the robot moving forwards\n",
    "    tank_drive.on(SpeedPercent(30), SpeedPercent(30))\n",
    "\n",
    "    # Add a delay in the loop to prevent it from hanging\n",
    "    sleep(0.1)\n",
    "    \n",
    "#     if colorLeft.rgb == red:\n",
    "#         tank_drive.on(SpeedPercent(100), SpeedPercent(0))\n",
    "#         sleep(1)\n",
    "\n",
    "\n",
    "    \n",
    "print('the final color visible on the sensor is: {}'.format(colorLeft.rgb))\n",
    "# Stop\n",
    "tank_drive.off()"
   ]
  },
  {
   "cell_type": "markdown",
   "id": "c3763d0e",
   "metadata": {},
   "source": [
    "<h2>Q3 - D</h2>"
   ]
  },
  {
   "cell_type": "code",
   "execution_count": 222,
   "id": "29fb7728",
   "metadata": {},
   "outputs": [],
   "source": [
    "%%sim_magic_preloaded --autorun -Cp -b Empty_Map -x 1000 -y 250 -a 90\n",
    "\n",
    "# Program to create a square\n",
    "def draw_square(num_of_rotations):\n",
    "    \"\"\"\n",
    "    Function which draws a square\n",
    "    @param: Number of rotations as a number\n",
    "    \"\"\"\n",
    "    \n",
    "    # Constants for movement and turn settings\n",
    "    STEERING = -100\n",
    "    TURN_ROTATIONS = 1.6\n",
    "    TURN_SPEED = 35.5\n",
    "    STRAIGHT_SPEED_PC = SpeedPercent(40)\n",
    "    STRAIGHT_ROTATIONS = 7.5\n",
    "    \n",
    "    # Loop through the specified number of rotations\n",
    "    for i in range(num_of_rotations):\n",
    "        print('Moving forward.')\n",
    "        # Perform straight movement\n",
    "        tank_drive.on_for_rotations(STRAIGHT_SPEED_PC, STRAIGHT_SPEED_PC, STRAIGHT_ROTATIONS)\n",
    "        \n",
    "        print('Turn made on rotation {}.'.format(i))\n",
    "        # Perform turn\n",
    "        tank_turn.on_for_rotations(STEERING, SpeedPercent(TURN_SPEED), TURN_ROTATIONS)\n",
    "        \n",
    "        # Make adjustments for the third turn\n",
    "        if i == 1:\n",
    "            print('\\nUpcoming 3rd turn; making adjustment')\n",
    "            STRAIGHT_ROTATIONS = 8\n",
    "            TURN_SPEED = 40\n",
    "            # Perform adjusted straight movement\n",
    "            tank_drive.on_for_rotations(STRAIGHT_SPEED_PC, STRAIGHT_SPEED_PC, STRAIGHT_ROTATIONS)\n",
    "            \n",
    "            # Perform adjusted turn\n",
    "            tank_turn.on_for_rotations(STEERING, SpeedPercent(TURN_SPEED), TURN_ROTATIONS)\n",
    "            print('I\\'ve taken 1 turn, on rotation {}.'.format(i))\n",
    "\n",
    "# Call the function with the desired number of rotations\n",
    "draw_square(3)"
   ]
  },
  {
   "cell_type": "markdown",
   "id": "4d0888a6",
   "metadata": {},
   "source": [
    "<h2>Q3 - E</h2>"
   ]
  },
  {
   "cell_type": "code",
   "execution_count": 20,
   "id": "d65a791f",
   "metadata": {},
   "outputs": [],
   "source": [
    "%%sim_magic_preloaded --autorun -Cp -b Empty_Map -x 500 -y 150 -a 90\n",
    "\n",
    "def draw_square(num_of_rotations, direction='right', half_square=False):\n",
    "    \"\"\"\n",
    "    Function to draw a square\n",
    "    @param: direction which to draw the square\n",
    "    @param: number of rotations (number)\n",
    "    @param: half_size_square (boole)\n",
    "    \"\"\"\n",
    "    \n",
    "    # Constants for movement and turn settings\n",
    "    STEERING = -100\n",
    "    TURN_ROTATIONS = 1.6\n",
    "    TURN_SPEED = 35.5\n",
    "    STRAIGHT_SPEED_PC = SpeedPercent(40)\n",
    "    STRAIGHT_ROTATIONS = 1.75\n",
    "    \n",
    "    # Adjust the straight rotations if half_square is True\n",
    "    if half_square:\n",
    "        STRAIGHT_ROTATIONS = 0.75\n",
    "    \n",
    "    # Define the steering direction based on the 'direction' parameter\n",
    "    if direction == 'right':\n",
    "        STEERING = -100  # Right turn\n",
    "    elif direction == 'left':\n",
    "        STEERING = 100  # Left turn\n",
    "    else:\n",
    "        print('Invalid direction specified. Defaulting to right turn.')\n",
    "        STEERING = -100\n",
    "    \n",
    "    # Loop through the specified number of rotations\n",
    "    for i in range(num_of_rotations):\n",
    "        print('Moving forward.')\n",
    "        # Perform straight movement\n",
    "        tank_drive.on_for_rotations(STRAIGHT_SPEED_PC, STRAIGHT_SPEED_PC, STRAIGHT_ROTATIONS)\n",
    "        \n",
    "        print('Turn made on rotation {}.'.format(i))\n",
    "        # Perform turn\n",
    "        tank_turn.on_for_rotations(STEERING, SpeedPercent(TURN_SPEED), TURN_ROTATIONS)\n",
    "\n",
    "# fnc call\n",
    "# draw_square(4)\n",
    "\n",
    "####################################################################################################\n",
    "\n",
    "def draw_squares_and_drive_away():\n",
    "    \"\"\"\n",
    "    Function to move the robot forwards, draw two squares, and drive away\n",
    "    \"\"\"\n",
    "    \n",
    "    # Move the robot forwards a short distance\n",
    "    # Adjust the rotation value as needed\n",
    "    tank_drive.on_for_rotations(SpeedPercent(30), SpeedPercent(30), 2)\n",
    "    \n",
    "    # Draw a square to the left of the line of travel\n",
    "    draw_square(4, direction='right')\n",
    "    \n",
    "    # Drive forwards away from the first square\n",
    "    # Adjust the rotation value as needed\n",
    "    tank_drive.on_for_rotations(SpeedPercent(30), SpeedPercent(30), 4)\n",
    "    \n",
    "    # Draw a second square with half the side length to the right of the line of travel\n",
    "    draw_square(4, direction='left', half_square=True)\n",
    "    \n",
    "    # Drive clear of the second square\n",
    "    tank_drive.on_for_rotations(SpeedPercent(30), SpeedPercent(30), 2)  # Adjust the rotation value as needed\n",
    "\n",
    "# Call the function to execute the sequence of actions\n",
    "draw_squares_and_drive_away()"
   ]
  }
 ],
 "metadata": {
  "kernelspec": {
   "display_name": "Python 3 (ipykernel)",
   "language": "python",
   "name": "python3"
  },
  "language_info": {
   "codemirror_mode": {
    "name": "ipython",
    "version": 3
   },
   "file_extension": ".py",
   "mimetype": "text/x-python",
   "name": "python",
   "nbconvert_exporter": "python",
   "pygments_lexer": "ipython3",
   "version": "3.9.17"
  }
 },
 "nbformat": 4,
 "nbformat_minor": 5
}
